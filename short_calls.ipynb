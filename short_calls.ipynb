{
 "cells": [
  {
   "cell_type": "markdown",
   "metadata": {},
   "source": [
    "# Covered Calls (Short Calls)\n",
    "\n",
    "This notebook will help find opportunities when selling call options. \n",
    "\n",
    "**NOTE:** Capitalized variables need to be manually changed. "
   ]
  },
  {
   "cell_type": "code",
   "execution_count": 1,
   "metadata": {},
   "outputs": [
    {
     "name": "stderr",
     "output_type": "stream",
     "text": [
      "[*********************100%***********************]  1 of 1 completed\n"
     ]
    },
    {
     "name": "stdout",
     "output_type": "stream",
     "text": [
      "               Value\n",
      "total            428\n",
      "match            414\n",
      "distance       -0.20\n",
      "probability  0.03271\n",
      "p%              3.27\n"
     ]
    }
   ],
   "source": [
    "import yfinance as yf\n",
    "from Tools.backtest import Backtest\n",
    "\n",
    "\n",
    "TICKER = \"F\"\n",
    "DTE = 30\n",
    "STRIKE = 8\n",
    "\n",
    "candles = yf.download(TICKER, multi_level_index=False)\n",
    "back = Backtest()\n",
    "probability_data = back.backtest_call(candles=candles, dte=DTE, strike_price=STRIKE, option_side=\"sell\")\n",
    "\n",
    "print(probability_data)"
   ]
  }
 ],
 "metadata": {
  "kernelspec": {
   "display_name": "venv",
   "language": "python",
   "name": "python3"
  },
  "language_info": {
   "codemirror_mode": {
    "name": "ipython",
    "version": 3
   },
   "file_extension": ".py",
   "mimetype": "text/x-python",
   "name": "python",
   "nbconvert_exporter": "python",
   "pygments_lexer": "ipython3",
   "version": "3.12.7"
  }
 },
 "nbformat": 4,
 "nbformat_minor": 2
}
