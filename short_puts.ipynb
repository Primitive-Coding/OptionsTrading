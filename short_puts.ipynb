{
 "cells": [
  {
   "cell_type": "markdown",
   "metadata": {},
   "source": [
    "# Cash Secured Puts\n",
    "This notebook will help find opportunities when selling put options. "
   ]
  },
  {
   "cell_type": "code",
   "execution_count": 2,
   "metadata": {},
   "outputs": [
    {
     "name": "stderr",
     "output_type": "stream",
     "text": [
      "[*********************100%***********************]  1 of 1 completed\n",
      "[*********************100%***********************]  1 of 1 completed\n",
      "[*********************100%***********************]  1 of 1 completed\n",
      "[*********************100%***********************]  1 of 1 completed\n",
      "[*********************100%***********************]  1 of 1 completed\n",
      "[*********************100%***********************]  1 of 1 completed\n",
      "[*********************100%***********************]  1 of 1 completed\n"
     ]
    },
    {
     "name": "stdout",
     "output_type": "stream",
     "text": [
      "\n",
      "===========================================================\n",
      "Price: $19.62\n",
      "Strike: $18.50\n",
      "Distance: -5.73%\n",
      "\n",
      "----------\n",
      "[Expiration]\n",
      "\n",
      "DTE: 2\n",
      "TDTE: 2\n",
      "\n",
      "----------\n",
      "1 Year(s): 96.83%\n",
      "5 Year(s): 97.77%\n",
      "10 Year(s): 98.73%\n",
      "max Year(s): 98.66%\n",
      "\n",
      "\n",
      "----------\n",
      "[Profitability]\n",
      "\n",
      "Premium: 1.96\n",
      "Collateral: 1850.0\n",
      "\n",
      "----------\n",
      "[Year Range]\n",
      "\n",
      "$18.51 - $46.15\n",
      "\n",
      "        \n",
      "        \n",
      "        \n"
     ]
    }
   ],
   "source": [
    "from Tools.options_chain import OptionsChain\n",
    "\n",
    "ticker = \"RIVN\"\n",
    "exp = \"2025-02-07\"\n",
    "strike_price = 11\n",
    "\n",
    "oc = OptionsChain(ticker, expiration_date=exp, call=False, put=True,  buy=False, sell=True, backtest_period=\"1Y\")\n",
    "oc.set_all()\n",
    "puts = oc.get_puts()\n",
    "index = oc.get_index_by_value(puts, \"strike\", strike_price)[0]\n",
    "row = puts.iloc[index]\n",
    "\n",
    "oc.display(row, option_type=\"put\")"
   ]
  }
 ],
 "metadata": {
  "kernelspec": {
   "display_name": "venv",
   "language": "python",
   "name": "python3"
  },
  "language_info": {
   "codemirror_mode": {
    "name": "ipython",
    "version": 3
   },
   "file_extension": ".py",
   "mimetype": "text/x-python",
   "name": "python",
   "nbconvert_exporter": "python",
   "pygments_lexer": "ipython3",
   "version": "3.12.7"
  }
 },
 "nbformat": 4,
 "nbformat_minor": 2
}
