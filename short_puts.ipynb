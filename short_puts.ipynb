{
 "cells": [
  {
   "cell_type": "markdown",
   "metadata": {},
   "source": [
    "# Cash Secured Puts\n",
    "This notebook will help find opportunities when selling put options. "
   ]
  },
  {
   "cell_type": "code",
   "execution_count": 1,
   "metadata": {},
   "outputs": [
    {
     "name": "stderr",
     "output_type": "stream",
     "text": [
      "[*********************100%***********************]  1 of 1 completed\n",
      "[*********************100%***********************]  1 of 1 completed\n",
      "[*********************100%***********************]  1 of 1 completed\n",
      "[*********************100%***********************]  1 of 1 completed\n",
      "[*********************100%***********************]  1 of 1 completed\n",
      "[*********************100%***********************]  1 of 1 completed\n"
     ]
    },
    {
     "name": "stdout",
     "output_type": "stream",
     "text": [
      "\n",
      "===========================================================\n",
      "Price: $10.16\n",
      "Strike: $9.00\n",
      "Distance: -11.42%\n",
      "\n",
      "----------\n",
      "[Expiration]\n",
      "\n",
      "DTE: 3\n",
      "TDTE: 3\n",
      "\n",
      "----------\n",
      "1 Year(s): 98.81%\n",
      "5 Year(s): 99.52%\n",
      "10 Year(s): 99.40%\n",
      "max Year(s): 99.68%\n",
      "\n",
      "\n",
      "----------\n",
      "[Profitability]\n",
      "\n",
      "Premium: 3.96\n",
      "Collateral: 900.0\n",
      "        \n",
      "        \n",
      "        \n"
     ]
    }
   ],
   "source": [
    "from Tools.options_chain import OptionsChain\n",
    "\n",
    "ticker = \"F\"\n",
    "exp = \"2025-02-07\"\n",
    "strike_price = 9\n",
    "\n",
    "oc = OptionsChain(ticker, exp, buy=False, sell=True, backtest_period=\"1Y\")\n",
    "oc.set_all()\n",
    "puts = oc.get_puts()\n",
    "index = oc.get_index_by_value(puts, \"strike\", strike_price)[0]\n",
    "row = puts.iloc[index]\n",
    "\n",
    "#print(f\"ROW: {row}\")\n",
    "\n",
    "oc.display(row, option_type=\"put\")"
   ]
  }
 ],
 "metadata": {
  "kernelspec": {
   "display_name": "venv",
   "language": "python",
   "name": "python3"
  },
  "language_info": {
   "codemirror_mode": {
    "name": "ipython",
    "version": 3
   },
   "file_extension": ".py",
   "mimetype": "text/x-python",
   "name": "python",
   "nbconvert_exporter": "python",
   "pygments_lexer": "ipython3",
   "version": "3.12.7"
  }
 },
 "nbformat": 4,
 "nbformat_minor": 2
}
